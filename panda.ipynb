{
 "cells": [
  {
   "cell_type": "code",
   "execution_count": 55,
   "id": "1bb3e311",
   "metadata": {},
   "outputs": [],
   "source": [
    "import pandas as pd\n",
    "import numpy as np\n",
    "from pathlib import Path\n",
    "import os.path\n",
    "import tensorflow as tf\n",
    "from sklearn.metrics import confusion_matrix, classification_report\n",
    "\n",
    "import matplotlib.pyplot as plt\n",
    "import seaborn as sns"
   ]
  },
  {
   "cell_type": "code",
   "execution_count": 56,
   "id": "43d9d8f4",
   "metadata": {},
   "outputs": [],
   "source": [
    "train_img_dir = Path('C://Users//Asus//Downloads//panda//PandasBears//Train')\n",
    "test_img_dir = Path('C://Users//Asus//Downloads//panda//PandasBears//Test')"
   ]
  },
  {
   "cell_type": "code",
   "execution_count": 57,
   "id": "afffc942",
   "metadata": {},
   "outputs": [],
   "source": [
    "filepath = list(train_img_dir.glob(r'**/*.jpeg'))\n",
    "Label = list(map(lambda x : os.path.split(os.path.split(x)[0])[1], filepath))\n",
    "filepath = pd.Series(filepath, name = \"Filepath\").astype(str)\n",
    "Label = pd.Series(Label, name = 'Label')\n",
    "train_df = pd.concat([filepath, Label], axis = 1).sample(frac = 1.0, random_state = 1).reset_index(drop = True)"
   ]
  },
  {
   "cell_type": "code",
   "execution_count": 58,
   "id": "6529faa3",
   "metadata": {},
   "outputs": [],
   "source": [
    "filepath = list(test_img_dir.glob(r'**/*.jpeg'))\n",
    "Label = list(map(lambda x : os.path.split(os.path.split(x)[0])[1], filepath))\n",
    "filepath = pd.Series(filepath, name = \"Filepath\").astype(str)\n",
    "Label = pd.Series(Label, name = 'Label')\n",
    "test_df = pd.concat([filepath, Label], axis = 1).sample(frac = 1.0, random_state = 1).reset_index(drop = True)"
   ]
  },
  {
   "cell_type": "code",
   "execution_count": 59,
   "id": "2d752456",
   "metadata": {},
   "outputs": [
    {
     "data": {
      "text/plain": [
       "(500, 2)"
      ]
     },
     "execution_count": 59,
     "metadata": {},
     "output_type": "execute_result"
    }
   ],
   "source": [
    "train_df.shape"
   ]
  },
  {
   "cell_type": "code",
   "execution_count": 60,
   "id": "0f5cacd7",
   "metadata": {},
   "outputs": [
    {
     "data": {
      "text/plain": [
       "(100, 2)"
      ]
     },
     "execution_count": 60,
     "metadata": {},
     "output_type": "execute_result"
    }
   ],
   "source": [
    "test_df.shape"
   ]
  },
  {
   "cell_type": "code",
   "execution_count": 61,
   "id": "88e4f9d5",
   "metadata": {},
   "outputs": [],
   "source": [
    "train_gen = tf.keras.preprocessing.image.ImageDataGenerator(rescale = 1./255,\n",
    "                                                           rotation_range = 30,\n",
    "                                                           zoom_range = 0.2,\n",
    "                                                           width_shift_range=0.1,\n",
    "                                                           height_shift_range = 0.1,\n",
    "                                                           horizontal_flip = True,\n",
    "                                                           vertical_flip = False,\n",
    "                                                           validation_split = 0.2)\n",
    "test_gen = tf.keras.preprocessing.image.ImageDataGenerator(rescale = 1./255)"
   ]
  },
  {
   "cell_type": "code",
   "execution_count": 62,
   "id": "652fc829",
   "metadata": {},
   "outputs": [
    {
     "name": "stdout",
     "output_type": "stream",
     "text": [
      "Found 400 validated image filenames belonging to 2 classes.\n",
      "Found 100 validated image filenames belonging to 2 classes.\n",
      "Found 100 validated image filenames belonging to 2 classes.\n"
     ]
    }
   ],
   "source": [
    "train_img = train_gen.flow_from_dataframe(dataframe = train_df,\n",
    "                                         x_col = 'Filepath',\n",
    "                                         y_col = 'Label',\n",
    "                                         target_size = (224,224),\n",
    "                                         color_mode = 'rgb',\n",
    "                                         class_mode = 'binary',\n",
    "                                         batch_size = 32,\n",
    "                                         shuffle = True,\n",
    "                                         seed = 42,\n",
    "                                         subset = 'training')\n",
    "val_img = train_gen.flow_from_dataframe(dataframe = train_df,\n",
    "                                         x_col = 'Filepath',\n",
    "                                         y_col = 'Label',\n",
    "                                         target_size = (224,224),\n",
    "                                         color_mode = 'rgb',\n",
    "                                         class_mode = 'binary',\n",
    "                                         batch_size = 32,\n",
    "                                         shuffle = True,\n",
    "                                         seed = 42,\n",
    "                                         subset = 'validation')\n",
    "test_img = test_gen.flow_from_dataframe(dataframe = test_df,\n",
    "                                         x_col = 'Filepath',\n",
    "                                         y_col = 'Label',\n",
    "                                         target_size = (224,224),\n",
    "                                         color_mode = 'rgb',\n",
    "                                         class_mode = 'binary',\n",
    "                                         batch_size = 32,\n",
    "                                         shuffle = False)"
   ]
  },
  {
   "cell_type": "code",
   "execution_count": 64,
   "id": "65614371",
   "metadata": {},
   "outputs": [
    {
     "name": "stdout",
     "output_type": "stream",
     "text": [
      "Epoch 1/100\n",
      "13/13 [==============================] - 10s 664ms/step - loss: 0.6892 - accuracy: 0.5225 - val_loss: 0.6810 - val_accuracy: 0.4900\n",
      "Epoch 2/100\n",
      "13/13 [==============================] - 9s 654ms/step - loss: 0.6554 - accuracy: 0.6975 - val_loss: 0.6088 - val_accuracy: 0.9800\n",
      "Epoch 3/100\n",
      "13/13 [==============================] - 10s 770ms/step - loss: 0.5363 - accuracy: 0.9125 - val_loss: 0.4013 - val_accuracy: 0.9800\n",
      "Epoch 4/100\n",
      "13/13 [==============================] - 10s 780ms/step - loss: 0.3196 - accuracy: 0.9475 - val_loss: 0.1628 - val_accuracy: 0.9900\n",
      "Epoch 5/100\n",
      "13/13 [==============================] - 10s 766ms/step - loss: 0.1610 - accuracy: 0.9600 - val_loss: 0.1034 - val_accuracy: 0.9800\n",
      "Epoch 6/100\n",
      "13/13 [==============================] - 11s 810ms/step - loss: 0.0820 - accuracy: 0.9750 - val_loss: 0.0554 - val_accuracy: 0.9900\n",
      "Epoch 7/100\n",
      "13/13 [==============================] - 12s 899ms/step - loss: 0.0564 - accuracy: 0.9825 - val_loss: 0.0358 - val_accuracy: 0.9900\n",
      "Epoch 8/100\n",
      "13/13 [==============================] - 12s 895ms/step - loss: 0.0440 - accuracy: 0.9900 - val_loss: 0.0628 - val_accuracy: 0.9800\n",
      "Epoch 9/100\n",
      "13/13 [==============================] - 11s 861ms/step - loss: 0.0469 - accuracy: 0.9875 - val_loss: 0.0238 - val_accuracy: 0.9900\n",
      "Epoch 10/100\n",
      "13/13 [==============================] - 11s 869ms/step - loss: 0.0411 - accuracy: 0.9850 - val_loss: 0.0266 - val_accuracy: 0.9900\n",
      "Epoch 11/100\n",
      "13/13 [==============================] - 11s 874ms/step - loss: 0.0355 - accuracy: 0.9875 - val_loss: 0.0294 - val_accuracy: 0.9900\n",
      "Epoch 12/100\n",
      "13/13 [==============================] - 11s 864ms/step - loss: 0.0769 - accuracy: 0.9750 - val_loss: 0.0356 - val_accuracy: 0.9900\n",
      "Epoch 13/100\n",
      "13/13 [==============================] - 11s 879ms/step - loss: 0.0419 - accuracy: 0.9875 - val_loss: 0.0396 - val_accuracy: 0.9900\n",
      "Epoch 14/100\n",
      "13/13 [==============================] - 11s 851ms/step - loss: 0.0418 - accuracy: 0.9875 - val_loss: 0.0471 - val_accuracy: 0.9800\n"
     ]
    }
   ],
   "source": [
    "inputs = tf.keras.Input(shape = (224,224,3))\n",
    "x = tf.keras.layers.Conv2D(filters = 16, kernel_size = (3,3),activation = 'relu')(inputs)\n",
    "x = tf.keras.layers.MaxPool2D()(x)\n",
    "x = tf.keras.layers.Conv2D(filters = 32, kernel_size = (3,3), activation = 'relu')(x)\n",
    "x = tf.keras.layers.MaxPool2D()(x)\n",
    "x = tf.keras.layers.GlobalAvgPool2D()(x)\n",
    "x = tf.keras.layers.Dense(128, activation = 'relu')(x)\n",
    "x = tf.keras.layers.Dense(128, activation = 'relu')(x)\n",
    "outputs = tf.keras.layers.Dense(1, activation = 'sigmoid')(x)\n",
    "\n",
    "model = tf.keras.Model(inputs = inputs, outputs = outputs)\n",
    "model.compile(optimizer = 'adam',\n",
    "             loss = 'binary_crossentropy',\n",
    "             metrics = ['accuracy'])\n",
    "history = model.fit(train_img, validation_data = val_img,\n",
    "                   epochs = 100,\n",
    "                   callbacks = tf.keras.callbacks.EarlyStopping(monitor = 'val_loss',\n",
    "                                                               patience = 5,\n",
    "                                                               restore_best_weights = True))"
   ]
  },
  {
   "cell_type": "code",
   "execution_count": 65,
   "id": "c7f0904e",
   "metadata": {},
   "outputs": [
    {
     "name": "stdout",
     "output_type": "stream",
     "text": [
      "Test Loss : 0.045\n",
      "Test Accuracy : 97.0%\n"
     ]
    }
   ],
   "source": [
    "results = model.evaluate(test_img, verbose = 0)\n",
    "print(f'Test Loss : {round(results[0], 3)}')\n",
    "print(f'Test Accuracy : {round(results[1], 4)*100}%')"
   ]
  },
  {
   "cell_type": "code",
   "execution_count": 67,
   "id": "0f11d3ff",
   "metadata": {},
   "outputs": [
    {
     "name": "stdout",
     "output_type": "stream",
     "text": [
      "4/4 [==============================] - 1s 85ms/step\n"
     ]
    },
    {
     "data": {
      "image/png": "[encoded data removed]",
      "text/plain": [
       "<Figure size 800x800 with 1 Axes>"
      ]
     },
     "metadata": {},
     "output_type": "display_data"
    },
    {
     "name": "stdout",
     "output_type": "stream",
     "text": [
      "Classification Report---------->\n",
      "               precision    recall  f1-score   support\n",
      "\n",
      "        Bear       0.94      1.00      0.97        50\n",
      "      Pandas       1.00      0.94      0.97        50\n",
      "\n",
      "    accuracy                           0.97       100\n",
      "   macro avg       0.97      0.97      0.97       100\n",
      "weighted avg       0.97      0.97      0.97       100\n",
      "\n"
     ]
    }
   ],
   "source": [
    "test_img_pred = (model.predict(test_img) >= 0.5).astype(np.int)\n",
    "cm = confusion_matrix(test_img.labels, test_img_pred, labels =[0,1])\n",
    "clr = classification_report(test_img.labels, test_img_pred, labels = [0,1], target_names= ['Bear','Pandas'])\n",
    "plt.figure(figsize = (8,8))\n",
    "sns.heatmap(cm, annot = True, fmt = 'g', cbar = False, cmap = 'Blues')\n",
    "plt.title('Confusion matrix for Actual vs Predicted Images')\n",
    "plt.xlabel('Predicted')\n",
    "plt.ylabel('Actual')\n",
    "plt.xticks(ticks = [0.5, 1.5], labels= ['Bear','Pandas'])\n",
    "plt.yticks(ticks= [0.5, 1.5], labels= ['Bear','Pandas'])\n",
    "plt.show()\n",
    "print('Classification Report---------->\\n',clr)\n",
    "                            "
   ]
  },
  {
   "cell_type": "code",
   "execution_count": 68,
   "id": "4bcdfcd2",
   "metadata": {},
   "outputs": [],
   "source": [
    "model.save('pandas.h5')"
   ]
  },
  {
   "cell_type": "code",
   "execution_count": null,
   "id": "dcff01e2",
   "metadata": {},
   "outputs": [],
   "source": [
    "\n"
   ]
  },
  {
   "cell_type": "code",
   "execution_count": 52,
   "id": "6a5142b6",
   "metadata": {},
   "outputs": [],
   "source": []
  },
  {
   "cell_type": "code",
   "execution_count": null,
   "id": "3e89e146",
   "metadata": {},
   "outputs": [],
   "source": [
    "\n"
   ]
  },
  {
   "cell_type": "code",
   "execution_count": 54,
   "id": "2a59bc3e",
   "metadata": {},
   "outputs": [],
   "source": []
  },
  {
   "cell_type": "code",
   "execution_count": null,
   "id": "72402c90",
   "metadata": {},
   "outputs": [],
   "source": []
  }
 ],
 "metadata": {
  "kernelspec": {
   "display_name": "Python 3 (ipykernel)",
   "language": "python",
   "name": "python3"
  },
  "language_info": {
   "codemirror_mode": {
    "name": "ipython",
    "version": 3
   },
   "file_extension": ".py",
   "mimetype": "text/x-python",
   "name": "python",
   "nbconvert_exporter": "python",
   "pygments_lexer": "ipython3",
   "version": "3.9.13"
  }
 },
 "nbformat": 4,
 "nbformat_minor": 5
}
